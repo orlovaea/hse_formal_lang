{
 "cells": [
  {
   "cell_type": "code",
   "execution_count": 1,
   "metadata": {},
   "outputs": [
    {
     "name": "stdout",
     "output_type": "stream",
     "text": [
      "Requirement already satisfied: russian-tagsets in c:\\programdata\\anaconda3\\lib\\site-packages (0.6)\n",
      "Requirement already satisfied: sklearn-crfsuite in c:\\programdata\\anaconda3\\lib\\site-packages (0.3.6)\n",
      "Requirement already satisfied: python-crfsuite>=0.8.3 in c:\\programdata\\anaconda3\\lib\\site-packages (from sklearn-crfsuite) (0.9.9)\n",
      "Requirement already satisfied: tqdm>=2.0 in c:\\programdata\\anaconda3\\lib\\site-packages (from sklearn-crfsuite) (4.50.2)\n",
      "Requirement already satisfied: tabulate in c:\\programdata\\anaconda3\\lib\\site-packages (from sklearn-crfsuite) (0.9.0)\n",
      "Requirement already satisfied: six in c:\\programdata\\anaconda3\\lib\\site-packages (from sklearn-crfsuite) (1.15.0)\n",
      "Requirement already satisfied: pymorphy2 in c:\\programdata\\anaconda3\\lib\\site-packages (0.9.1)\n",
      "Requirement already satisfied: pymorphy2-dicts-ru<3.0,>=2.4 in c:\\programdata\\anaconda3\\lib\\site-packages (from pymorphy2) (2.4.417127.4579844)\n",
      "Requirement already satisfied: docopt>=0.6 in c:\\programdata\\anaconda3\\lib\\site-packages (from pymorphy2) (0.6.2)\n",
      "Requirement already satisfied: dawg-python>=0.7.1 in c:\\programdata\\anaconda3\\lib\\site-packages (from pymorphy2) (0.7.2)\n",
      "Requirement already satisfied: conllu in c:\\programdata\\anaconda3\\lib\\site-packages (4.5.2)\n"
     ]
    }
   ],
   "source": [
    "!pip install russian-tagsets\n",
    "!pip install sklearn-crfsuite\n",
    "!pip install pymorphy2\n",
    "!pip install conllu"
   ]
  },
  {
   "cell_type": "code",
   "execution_count": 2,
   "metadata": {},
   "outputs": [],
   "source": [
    "from collections import Counter\n",
    "\n",
    "import sklearn_crfsuite\n",
    "from sklearn_crfsuite import metrics as crf_metrics\n",
    "\n",
    "from sklearn.metrics import classification_report\n",
    "from sklearn.preprocessing import MultiLabelBinarizer\n",
    "\n",
    "from russian_tagsets import converters\n",
    "from pymorphy2 import MorphAnalyzer\n",
    "import conllu\n",
    "\n",
    "import warnings\n",
    "warnings.filterwarnings(\"ignore\", category=FutureWarning)"
   ]
  },
  {
   "cell_type": "code",
   "execution_count": 3,
   "metadata": {},
   "outputs": [],
   "source": [
    "analyzer = MorphAnalyzer()"
   ]
  },
  {
   "cell_type": "code",
   "execution_count": 4,
   "metadata": {},
   "outputs": [],
   "source": [
    "ud_converter = converters.converter('opencorpora-int', 'ud20')"
   ]
  },
  {
   "cell_type": "markdown",
   "metadata": {},
   "source": [
    "#### Загрузка и подготовка данных"
   ]
  },
  {
   "cell_type": "code",
   "execution_count": 5,
   "metadata": {},
   "outputs": [],
   "source": [
    "train_data_conllu = open('ru_syntagrus-ud-train.conllu', encoding='utf-8')\n",
    "test_data_conllu = open('ru_syntagrus-ud_test.conllu', encoding='utf-8')"
   ]
  },
  {
   "cell_type": "code",
   "execution_count": 6,
   "metadata": {},
   "outputs": [],
   "source": [
    "train_data = conllu.parse_incr(train_data_conllu)\n",
    "test_data = conllu.parse_incr(test_data_conllu)"
   ]
  },
  {
   "cell_type": "code",
   "execution_count": 7,
   "metadata": {},
   "outputs": [],
   "source": [
    "def process_data(dataset):\n",
    "    data = []\n",
    "    pos = []\n",
    "\n",
    "    # FORM: Word form or punctuation symbol\n",
    "    # LEMMA: Lemma or stem of word form.\n",
    "    # UPOS: Universal part-of-speech tag.\n",
    "    # FEATS: List of morphological features from the universal feature inventory \n",
    "    # or from a defined language-specific extension; \n",
    "    # underscore if not available (https://universaldependencies.org/u/feat/index.html)\n",
    "                \n",
    "    for sent in dataset: \n",
    "        sentence = []\n",
    "        sentence_pos = []\n",
    "\n",
    "        for i in range(len(sent)): \n",
    "            res_dict = {}\n",
    "            elem_upos = sent[i]['upos'] # сохраняем upos метку для i-того слова в предложении\n",
    "\n",
    "            for j in range(i-2, i+3): # смотрим на 2 слова назад и 3 перед от i-того слова (на большем кол-ве ноут не выдерживает)\n",
    "                if 0 <= j < len(sent):\n",
    "                    forms = analyzer.parse(sent[j]['form']) # обрабатываем через pymorphy\n",
    "                    forms = forms[:3] # сохраняем топ-3 формы\n",
    "\n",
    "                    for upos_num in range(len(forms)):\n",
    "                        res_dict['lemma'+str(j-i)+str(upos_num)] = forms[upos_num].normal_form # кладем в словарь лемму \n",
    "                        converted = ud_converter(str(forms[upos_num].tag))\n",
    "                        upos, feats = converted.split(' ')\n",
    "                        res_dict['upos'+str(j-i)+str(upos_num)] = upos # кладем в словарь upos, feats\n",
    "                        res_dict['feats'+str(j-i)+str(upos_num)] = feats\n",
    "\n",
    "                    for upos_num in range(len(forms), 3): \n",
    "                        res_dict['lemma'+str(j-i)+str(upos_num)] = 'none'\n",
    "                        res_dict['upos'+str(j-i)+str(upos_num)] = 'none'\n",
    "                        res_dict['feats'+str(j-i)+str(upos_num)] = 'none'\n",
    "                \n",
    "                else: # если j не удовлетворил условиям\n",
    "                    for upos_num in range(3):\n",
    "                        res_dict['lemma'+str(j-i)+str(upos_num)] = 'none'\n",
    "                        res_dict['upos'+str(j-i)+str(upos_num)] = 'none'\n",
    "                        res_dict['feats'+str(j-i)+str(upos_num)] = 'none'\n",
    "\n",
    "            sentence.append(res_dict)\n",
    "            sentence_pos.append(elem_upos)\n",
    "\n",
    "        data.append(sentence)\n",
    "        pos.append(sentence_pos)\n",
    "\n",
    "    return data, pos"
   ]
  },
  {
   "cell_type": "code",
   "execution_count": 8,
   "metadata": {},
   "outputs": [
    {
     "name": "stdout",
     "output_type": "stream",
     "text": [
      "Wall time: 25min 56s\n"
     ]
    }
   ],
   "source": [
    "%%time\n",
    "data, pos = process_data(train_data)"
   ]
  },
  {
   "cell_type": "markdown",
   "metadata": {},
   "source": [
    "#### Обучение модели"
   ]
  },
  {
   "cell_type": "code",
   "execution_count": 9,
   "metadata": {},
   "outputs": [],
   "source": [
    "crf = sklearn_crfsuite.CRF(algorithm='lbfgs', c1=0.1, c2=0.1, max_iterations=200, all_possible_transitions=True)"
   ]
  },
  {
   "cell_type": "code",
   "execution_count": 10,
   "metadata": {},
   "outputs": [
    {
     "name": "stdout",
     "output_type": "stream",
     "text": [
      "Wall time: 21min 10s\n"
     ]
    },
    {
     "data": {
      "text/plain": [
       "CRF(algorithm='lbfgs', all_possible_transitions=True, c1=0.1, c2=0.1,\n",
       "    keep_tempfiles=None, max_iterations=200)"
      ]
     },
     "execution_count": 10,
     "metadata": {},
     "output_type": "execute_result"
    }
   ],
   "source": [
    "%%time\n",
    "crf.fit(data, pos)"
   ]
  },
  {
   "cell_type": "markdown",
   "metadata": {},
   "source": [
    "#### Тест модели"
   ]
  },
  {
   "cell_type": "markdown",
   "metadata": {},
   "source": [
    "Подготовка данных для теста:"
   ]
  },
  {
   "cell_type": "code",
   "execution_count": 11,
   "metadata": {},
   "outputs": [
    {
     "name": "stdout",
     "output_type": "stream",
     "text": [
      "Wall time: 3min 4s\n"
     ]
    }
   ],
   "source": [
    "%%time\n",
    "data_test, pos_test = process_data(test_data)"
   ]
  },
  {
   "cell_type": "markdown",
   "metadata": {},
   "source": [
    "Предсказываем значения с помощью модели:"
   ]
  },
  {
   "cell_type": "code",
   "execution_count": 12,
   "metadata": {},
   "outputs": [],
   "source": [
    "predicted_values = crf.predict(data_test)"
   ]
  },
  {
   "cell_type": "code",
   "execution_count": 13,
   "metadata": {},
   "outputs": [
    {
     "data": {
      "text/plain": [
       "['NOUN',\n",
       " 'PUNCT',\n",
       " 'ADJ',\n",
       " 'PROPN',\n",
       " 'AUX',\n",
       " 'VERB',\n",
       " 'ADP',\n",
       " 'ADV',\n",
       " 'CCONJ',\n",
       " 'PART',\n",
       " 'PRON',\n",
       " 'DET',\n",
       " 'SCONJ',\n",
       " 'NUM',\n",
       " '_',\n",
       " 'INTJ',\n",
       " 'X',\n",
       " 'SYM']"
      ]
     },
     "execution_count": 13,
     "metadata": {},
     "output_type": "execute_result"
    }
   ],
   "source": [
    "labels = list(crf.classes_) # X = other\n",
    "labels"
   ]
  },
  {
   "cell_type": "markdown",
   "metadata": {},
   "source": [
    "Метрики:"
   ]
  },
  {
   "cell_type": "code",
   "execution_count": 14,
   "metadata": {},
   "outputs": [
    {
     "name": "stdout",
     "output_type": "stream",
     "text": [
      "              precision    recall  f1-score   support\n",
      "\n",
      "        NOUN      0.973     0.986     0.980     36568\n",
      "       PUNCT      1.000     1.000     1.000     29463\n",
      "         ADJ      0.953     0.967     0.960     14471\n",
      "       PROPN      0.927     0.818     0.869      5883\n",
      "         AUX      0.940     0.953     0.946      1518\n",
      "        VERB      0.987     0.985     0.986     18146\n",
      "         ADP      0.999     0.999     0.999     15062\n",
      "         ADV      0.947     0.948     0.947      8085\n",
      "       CCONJ      0.963     0.979     0.971      5736\n",
      "        PART      0.930     0.908     0.919      4921\n",
      "        PRON      0.963     0.963     0.963      8015\n",
      "         DET      0.926     0.912     0.919      4094\n",
      "       SCONJ      0.921     0.942     0.932      2992\n",
      "         NUM      0.943     0.945     0.944      2528\n",
      "           _      1.000     1.000     1.000       271\n",
      "        INTJ      0.875     0.609     0.718        23\n",
      "           X      0.246     0.333     0.283        48\n",
      "         SYM      0.994     1.000     0.997       165\n",
      "\n",
      "    accuracy                          0.972    157989\n",
      "   macro avg      0.916     0.903     0.907    157989\n",
      "weighted avg      0.972     0.972     0.972    157989\n",
      "\n"
     ]
    }
   ],
   "source": [
    "print(crf_metrics.flat_classification_report(pos_test, predicted_values, labels=labels, digits=3))"
   ]
  },
  {
   "cell_type": "markdown",
   "metadata": {},
   "source": [
    "Модель плохо распознает X (other), но, кажется, это что-то небольшое и не очень существенное. Междометия тоже распознаются не очень хорошо, видимо, недостаточно данных в датасете"
   ]
  },
  {
   "cell_type": "code",
   "execution_count": 15,
   "metadata": {},
   "outputs": [
    {
     "name": "stdout",
     "output_type": "stream",
     "text": [
      "Top positive:\n",
      "15.402754 AUX      lemma00:бы\n",
      "14.668442 PRON     lemma00:который\n",
      "13.806176 CCONJ    lemma00:или\n",
      "13.490235 SCONJ    lemma00:если\n",
      "13.361143 ADP      upos00:ADP\n",
      "12.984190 _        lemma00:_\n",
      "12.053161 PUNCT    upos00:PUNCT\n",
      "11.556374 AUX      lemma00:быть\n",
      "10.931335 CCONJ    lemma00:либо\n",
      "10.724052 ADV      feats00:Tense=Pres\n",
      "10.586029 PROPN    lemma00:гарус\n",
      "10.465793 ADP      upos01:ADP\n",
      "10.159273 PROPN    lemma00:цик\n",
      "10.023963 NUM      lemma00:один\n",
      "9.894987 SYM      lemma00:%\n",
      "9.783239 PART     lemma00:еле\n",
      "9.336678 PRON     lemma00:весь\n",
      "9.199847 PROPN    lemma00:кремль\n",
      "8.491245 ADJ      lemma00:крестовский\n",
      "8.432884 SCONJ    lemma00:поскольку\n",
      "8.420548 NOUN     lemma00:многое\n",
      "8.286275 ADP      lemma00:порядок\n",
      "8.254027 PROPN    lemma00:крэк\n",
      "8.243982 NOUN     lemma00:им.\n",
      "8.053294 PART     lemma00:прямо-таки\n",
      "7.672967 NUM      upos00:NUM\n",
      "7.647299 PART     lemma00:не\n",
      "7.509956 SCONJ    lemma00:ибо\n",
      "7.488617 VERB     lemma00:см.\n",
      "7.386516 CCONJ    lemma00:причём\n",
      "\n",
      "Top negative:\n",
      "-3.580421 CCONJ    lemma10:ранний\n",
      "-3.596141 ADV      lemma00:чуть-чуть\n",
      "-3.602098 NUM      feats00:Case=Gen|Number=Plur\n",
      "-3.618900 PRON     feats02:Case=Gen|Number=Plur\n",
      "-3.663530 VERB     lemma00:заинтересовать\n",
      "-3.673568 VERB     lemma00:расположить\n",
      "-3.680899 NOUN     lemma20:олень\n",
      "-3.717489 ADJ      lemma00:поклонный\n",
      "-3.734463 PRON     lemma02:прочий\n",
      "-3.764921 PROPN    upos00:ADV\n",
      "-3.776357 NOUN     lemma00:луна\n",
      "-3.811018 NOUN     feats02:Animacy=Inan|Case=Acc|Number=Plur\n",
      "-3.834449 NOUN     lemma01:монах\n",
      "-3.834803 NOUN     lemma00:господь\n",
      "-3.839392 VERB     upos00:PRON\n",
      "-3.924098 ADV      upos00:PRON\n",
      "-3.988503 PROPN    upos00:PRON\n",
      "-4.113317 ADV      upos00:DET\n",
      "-4.157649 NOUN     upos00:PRON\n",
      "-4.171776 PART     lemma20:приступить\n",
      "-4.260216 ADP      feats01:Aspect=Imp|Tense=Pres|VerbForm=Conv\n",
      "-4.463000 AUX      feats-12:Aspect=Imp|Tense=Pres|VerbForm=Conv\n",
      "-4.512695 PRON     feats00:Case=Gen|Gender=Fem|Number=Sing\n",
      "-4.585724 SCONJ    upos02:INTJ\n",
      "-4.812851 ADV      upos00:X\n",
      "-5.005947 ADV      upos02:INTJ\n",
      "-5.035185 VERB     lemma00:уверить\n",
      "-5.184060 ADV      lemma00:попросту\n",
      "-5.809512 NUM      feats01:Animacy=Inan|Case=Acc|Number=Plur\n",
      "-5.934653 PRON     feats02:_\n"
     ]
    }
   ],
   "source": [
    "def print_state_features(state_features):\n",
    "    for (attr, label), weight in state_features:\n",
    "        print(\"%0.6f %-8s %s\" % (weight, label, attr))\n",
    "\n",
    "print(\"Top positive:\")\n",
    "print_state_features(Counter(crf.state_features_).most_common(30))\n",
    "\n",
    "print(\"\\nTop negative:\")\n",
    "print_state_features(Counter(crf.state_features_).most_common()[-30:])"
   ]
  }
 ],
 "metadata": {
  "kernelspec": {
   "display_name": "Python 3",
   "language": "python",
   "name": "python3"
  },
  "language_info": {
   "codemirror_mode": {
    "name": "ipython",
    "version": 3
   },
   "file_extension": ".py",
   "mimetype": "text/x-python",
   "name": "python",
   "nbconvert_exporter": "python",
   "pygments_lexer": "ipython3",
   "version": "3.8.5"
  }
 },
 "nbformat": 4,
 "nbformat_minor": 4
}
