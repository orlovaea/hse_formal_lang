{
 "cells": [
  {
   "cell_type": "code",
   "execution_count": 1,
   "id": "f5d1bb09",
   "metadata": {},
   "outputs": [
    {
     "name": "stdout",
     "output_type": "stream",
     "text": [
      "Requirement already satisfied: antlr4-python3-runtime in /Users/elena/opt/anaconda3/lib/python3.9/site-packages (4.13.0)\r\n"
     ]
    }
   ],
   "source": [
    "!pip install antlr4-python3-runtime"
   ]
  },
  {
   "cell_type": "code",
   "execution_count": 2,
   "id": "f7ab5f79",
   "metadata": {},
   "outputs": [],
   "source": [
    "#!pip install anytree"
   ]
  },
  {
   "cell_type": "code",
   "execution_count": 3,
   "id": "af23515d",
   "metadata": {},
   "outputs": [],
   "source": [
    "from antlr4 import *\n",
    "from antlr4.tree.Trees import Trees\n",
    "from anytree import Node, RenderTree"
   ]
  },
  {
   "cell_type": "markdown",
   "id": "3e1e2c76",
   "metadata": {},
   "source": [
    "Создаем Lexer, Parser с помощью ANTLR:"
   ]
  },
  {
   "cell_type": "code",
   "execution_count": 4,
   "id": "44bdfc2b",
   "metadata": {},
   "outputs": [],
   "source": [
    "!cd /Users/elena/ANTLR-4.13.0 && \\\n",
    "java -Xmx500M -cp \"/Users/elena/ANTLR-4.13.0/antlr-4.13.0-complete.jar\" org.antlr.v4.Tool -Dlanguage=Python3 SelectSQL.g4"
   ]
  },
  {
   "cell_type": "code",
   "execution_count": 5,
   "id": "185d9653",
   "metadata": {},
   "outputs": [],
   "source": [
    "from SelectSQLLexer import SelectSQLLexer\n",
    "from SelectSQLParser import SelectSQLParser"
   ]
  },
  {
   "cell_type": "markdown",
   "id": "14a9bdfb",
   "metadata": {},
   "source": [
    "Функция для парсера:"
   ]
  },
  {
   "cell_type": "code",
   "execution_count": 6,
   "id": "76ec77ea",
   "metadata": {},
   "outputs": [],
   "source": [
    "def sql_parser(select_statement):\n",
    "    \n",
    "    infile=InputStream(select_statement)\n",
    "    infile.consume()\n",
    "    lexer = SelectSQLLexer(infile)\n",
    "    stream = CommonTokenStream(lexer)\n",
    "    parser = SelectSQLParser(stream)\n",
    "    tree = parser.select_statement()\n",
    "    \n",
    "    print(Trees.toStringTree(tree, None, parser))\n",
    "    \n",
    "    return tree"
   ]
  },
  {
   "cell_type": "markdown",
   "id": "7f4b4b24",
   "metadata": {},
   "source": [
    "Функция для красивого вывода дерева:"
   ]
  },
  {
   "cell_type": "code",
   "execution_count": 7,
   "id": "1c8b0cd5",
   "metadata": {},
   "outputs": [],
   "source": [
    "def create_parse_tree(node):\n",
    "    if isinstance(node, TerminalNode):\n",
    "        return Node(node.getText())\n",
    "    else:\n",
    "        parse_tree = Node(node.getText())\n",
    "        for child in node.children:\n",
    "            child_node = create_parse_tree(child)\n",
    "            child_node.parent = parse_tree\n",
    "        return parse_tree"
   ]
  },
  {
   "cell_type": "markdown",
   "id": "c4423764",
   "metadata": {},
   "source": [
    "Eg.1"
   ]
  },
  {
   "cell_type": "code",
   "execution_count": 8,
   "id": "549535db",
   "metadata": {},
   "outputs": [],
   "source": [
    "sel_st = ''' SELECT *\n",
    "            FROM call\n",
    "            ORDER BY call.employee_id, call.start_time ASC;'''"
   ]
  },
  {
   "cell_type": "code",
   "execution_count": 9,
   "id": "30151582",
   "metadata": {},
   "outputs": [
    {
     "name": "stdout",
     "output_type": "stream",
     "text": [
      "(select_statement (select_clause SELECT (select_list *)) (from_clause FROM (table_list (table_name call))) (order_by_clause ORDER BY (column_name_list (table_column (table_name call) . (column_name employee_id)) , (table_column (table_name call) . (column_name start_time))) ASC) ;)\n"
     ]
    }
   ],
   "source": [
    "tree = sql_parser(sel_st)"
   ]
  },
  {
   "cell_type": "code",
   "execution_count": 10,
   "id": "85d6bee8",
   "metadata": {},
   "outputs": [
    {
     "name": "stdout",
     "output_type": "stream",
     "text": [
      "SELECT*FROMcallORDERBYcall.employee_id,call.start_timeASC;\n",
      "├── SELECT*\n",
      "│   ├── SELECT\n",
      "│   └── *\n",
      "│       └── *\n",
      "├── FROMcall\n",
      "│   ├── FROM\n",
      "│   └── call\n",
      "│       └── call\n",
      "│           └── call\n",
      "├── ORDERBYcall.employee_id,call.start_timeASC\n",
      "│   ├── ORDER\n",
      "│   ├── BY\n",
      "│   ├── call.employee_id,call.start_time\n",
      "│   │   ├── call.employee_id\n",
      "│   │   │   ├── call\n",
      "│   │   │   │   └── call\n",
      "│   │   │   ├── .\n",
      "│   │   │   └── employee_id\n",
      "│   │   │       └── employee_id\n",
      "│   │   ├── ,\n",
      "│   │   └── call.start_time\n",
      "│   │       ├── call\n",
      "│   │       │   └── call\n",
      "│   │       ├── .\n",
      "│   │       └── start_time\n",
      "│   │           └── start_time\n",
      "│   └── ASC\n",
      "└── ;\n"
     ]
    }
   ],
   "source": [
    "root = create_parse_tree(tree)\n",
    "for pre, fill, node in RenderTree(root):\n",
    "    print(f\"{pre}{node.name}\")"
   ]
  },
  {
   "cell_type": "markdown",
   "id": "512fcea0",
   "metadata": {},
   "source": [
    "Eg.2"
   ]
  },
  {
   "cell_type": "code",
   "execution_count": 11,
   "id": "7e27e488",
   "metadata": {},
   "outputs": [],
   "source": [
    "sel_st1 = ''' WITH highest AS (SELECT table.branch, date, MAX(unit_price) AS highest_price \n",
    "             FROM sales GROUP BY branch, date)\n",
    "             SELECT sales.age, h.highest_price FROM sales \n",
    "             JOIN highest AS h ON sales.branch = h.branch AND sales.date = h.date \n",
    "             ORDER BY table.col, age DESC\n",
    "'''"
   ]
  },
  {
   "cell_type": "code",
   "execution_count": 12,
   "id": "c65bf5f5",
   "metadata": {},
   "outputs": [
    {
     "name": "stdout",
     "output_type": "stream",
     "text": [
      "(select_statement (select_with_cte WITH (column_name_list (column_name highest)) AS ( (select_statement (select_clause SELECT (select_list (select_item (expression (table_column (table_name table) . (column_name branch)))) , (select_item (expression (column_name date))) , (select_item (expression (aggregate_function MAX ( (column_name unit_price) ))) AS (column_name highest_price)))) (from_clause FROM (table_list (table_name sales))) (group_by_clause GROUP BY (column_name_list (column_name branch) , (column_name date)))) )) (select_clause SELECT (select_list (select_item (expression (table_column (table_name sales) . (column_name age)))) , (select_item (expression (table_column (table_name h) . (column_name highest_price)))))) (from_clause FROM (table_list (table_name sales))) (join_list (join_clause JOIN (table_name highest) AS (table_name h) ON (join_condition (table_column (table_name sales) . (column_name branch)) (comparison_operator =) (table_column (table_name h) . (column_name branch)) (logical_operator AND) (table_column (table_name sales) . (column_name date)) (comparison_operator =) (table_column (table_name h) . (column_name date))))) (order_by_clause ORDER BY (column_name_list (table_column (table_name table) . (column_name col)) , (column_name age)) DESC))\n"
     ]
    }
   ],
   "source": [
    "tree = sql_parser(sel_st1)"
   ]
  },
  {
   "cell_type": "code",
   "execution_count": 13,
   "id": "02e1fa24",
   "metadata": {
    "scrolled": false
   },
   "outputs": [
    {
     "name": "stdout",
     "output_type": "stream",
     "text": [
      "WITHhighestAS(SELECTtable.branch,date,MAX(unit_price)AShighest_priceFROMsalesGROUPBYbranch,date)SELECTsales.age,h.highest_priceFROMsalesJOINhighestAShONsales.branch=h.branchANDsales.date=h.dateORDERBYtable.col,ageDESC\n",
      "├── WITHhighestAS(SELECTtable.branch,date,MAX(unit_price)AShighest_priceFROMsalesGROUPBYbranch,date)\n",
      "│   ├── WITH\n",
      "│   ├── highest\n",
      "│   │   └── highest\n",
      "│   │       └── highest\n",
      "│   ├── AS\n",
      "│   ├── (\n",
      "│   ├── SELECTtable.branch,date,MAX(unit_price)AShighest_priceFROMsalesGROUPBYbranch,date\n",
      "│   │   ├── SELECTtable.branch,date,MAX(unit_price)AShighest_price\n",
      "│   │   │   ├── SELECT\n",
      "│   │   │   └── table.branch,date,MAX(unit_price)AShighest_price\n",
      "│   │   │       ├── table.branch\n",
      "│   │   │       │   └── table.branch\n",
      "│   │   │       │       └── table.branch\n",
      "│   │   │       │           ├── table\n",
      "│   │   │       │           │   └── table\n",
      "│   │   │       │           ├── .\n",
      "│   │   │       │           └── branch\n",
      "│   │   │       │               └── branch\n",
      "│   │   │       ├── ,\n",
      "│   │   │       ├── date\n",
      "│   │   │       │   └── date\n",
      "│   │   │       │       └── date\n",
      "│   │   │       │           └── date\n",
      "│   │   │       ├── ,\n",
      "│   │   │       └── MAX(unit_price)AShighest_price\n",
      "│   │   │           ├── MAX(unit_price)\n",
      "│   │   │           │   └── MAX(unit_price)\n",
      "│   │   │           │       ├── MAX\n",
      "│   │   │           │       ├── (\n",
      "│   │   │           │       ├── unit_price\n",
      "│   │   │           │       │   └── unit_price\n",
      "│   │   │           │       └── )\n",
      "│   │   │           ├── AS\n",
      "│   │   │           └── highest_price\n",
      "│   │   │               └── highest_price\n",
      "│   │   ├── FROMsales\n",
      "│   │   │   ├── FROM\n",
      "│   │   │   └── sales\n",
      "│   │   │       └── sales\n",
      "│   │   │           └── sales\n",
      "│   │   └── GROUPBYbranch,date\n",
      "│   │       ├── GROUP\n",
      "│   │       ├── BY\n",
      "│   │       └── branch,date\n",
      "│   │           ├── branch\n",
      "│   │           │   └── branch\n",
      "│   │           ├── ,\n",
      "│   │           └── date\n",
      "│   │               └── date\n",
      "│   └── )\n",
      "├── SELECTsales.age,h.highest_price\n",
      "│   ├── SELECT\n",
      "│   └── sales.age,h.highest_price\n",
      "│       ├── sales.age\n",
      "│       │   └── sales.age\n",
      "│       │       └── sales.age\n",
      "│       │           ├── sales\n",
      "│       │           │   └── sales\n",
      "│       │           ├── .\n",
      "│       │           └── age\n",
      "│       │               └── age\n",
      "│       ├── ,\n",
      "│       └── h.highest_price\n",
      "│           └── h.highest_price\n",
      "│               └── h.highest_price\n",
      "│                   ├── h\n",
      "│                   │   └── h\n",
      "│                   ├── .\n",
      "│                   └── highest_price\n",
      "│                       └── highest_price\n",
      "├── FROMsales\n",
      "│   ├── FROM\n",
      "│   └── sales\n",
      "│       └── sales\n",
      "│           └── sales\n",
      "├── JOINhighestAShONsales.branch=h.branchANDsales.date=h.date\n",
      "│   └── JOINhighestAShONsales.branch=h.branchANDsales.date=h.date\n",
      "│       ├── JOIN\n",
      "│       ├── highest\n",
      "│       │   └── highest\n",
      "│       ├── AS\n",
      "│       ├── h\n",
      "│       │   └── h\n",
      "│       ├── ON\n",
      "│       └── sales.branch=h.branchANDsales.date=h.date\n",
      "│           ├── sales.branch\n",
      "│           │   ├── sales\n",
      "│           │   │   └── sales\n",
      "│           │   ├── .\n",
      "│           │   └── branch\n",
      "│           │       └── branch\n",
      "│           ├── =\n",
      "│           │   └── =\n",
      "│           ├── h.branch\n",
      "│           │   ├── h\n",
      "│           │   │   └── h\n",
      "│           │   ├── .\n",
      "│           │   └── branch\n",
      "│           │       └── branch\n",
      "│           ├── AND\n",
      "│           │   └── AND\n",
      "│           ├── sales.date\n",
      "│           │   ├── sales\n",
      "│           │   │   └── sales\n",
      "│           │   ├── .\n",
      "│           │   └── date\n",
      "│           │       └── date\n",
      "│           ├── =\n",
      "│           │   └── =\n",
      "│           └── h.date\n",
      "│               ├── h\n",
      "│               │   └── h\n",
      "│               ├── .\n",
      "│               └── date\n",
      "│                   └── date\n",
      "└── ORDERBYtable.col,ageDESC\n",
      "    ├── ORDER\n",
      "    ├── BY\n",
      "    ├── table.col,age\n",
      "    │   ├── table.col\n",
      "    │   │   ├── table\n",
      "    │   │   │   └── table\n",
      "    │   │   ├── .\n",
      "    │   │   └── col\n",
      "    │   │       └── col\n",
      "    │   ├── ,\n",
      "    │   └── age\n",
      "    │       └── age\n",
      "    └── DESC\n"
     ]
    }
   ],
   "source": [
    "root = create_parse_tree(tree)\n",
    "for pre, fill, node in RenderTree(root):\n",
    "    print(f\"{pre}{node.name}\")"
   ]
  },
  {
   "cell_type": "markdown",
   "id": "c5121d79",
   "metadata": {},
   "source": [
    "Eg. 3"
   ]
  },
  {
   "cell_type": "code",
   "execution_count": 14,
   "id": "b6654800",
   "metadata": {},
   "outputs": [],
   "source": [
    "sel_st2 = ''' WITH highest AS (SELECT table.branch, date, MAX(unit_price) AS highest_price \n",
    "             FROM sales GROUP BY branch, date)\n",
    "             SELECT sales.age, h.highest_price \n",
    "             FROM sales LEFT JOIN highest AS h ON sales.branch = h.branch AND sales.date = h.date\n",
    "             WHERE sales.num >= 100 OR sales.manager = \"John\" AND sales.revenue IS NOT NULL\n",
    "             ORDER BY table.col, age DESC\n",
    "             LIMIT 10;\n",
    "'''"
   ]
  },
  {
   "cell_type": "code",
   "execution_count": 15,
   "id": "8d5c4d87",
   "metadata": {},
   "outputs": [
    {
     "name": "stdout",
     "output_type": "stream",
     "text": [
      "(select_statement (select_with_cte WITH (column_name_list (column_name highest)) AS ( (select_statement (select_clause SELECT (select_list (select_item (expression (table_column (table_name table) . (column_name branch)))) , (select_item (expression (column_name date))) , (select_item (expression (aggregate_function MAX ( (column_name unit_price) ))) AS (column_name highest_price)))) (from_clause FROM (table_list (table_name sales))) (group_by_clause GROUP BY (column_name_list (column_name branch) , (column_name date)))) )) (select_clause SELECT (select_list (select_item (expression (table_column (table_name sales) . (column_name age)))) , (select_item (expression (table_column (table_name h) . (column_name highest_price)))))) (from_clause FROM (table_list (table_name sales))) (join_list (join_clause LEFT JOIN (table_name highest) AS (table_name h) ON (join_condition (table_column (table_name sales) . (column_name branch)) (comparison_operator =) (table_column (table_name h) . (column_name branch)) (logical_operator AND) (table_column (table_name sales) . (column_name date)) (comparison_operator =) (table_column (table_name h) . (column_name date))))) (where_clause WHERE (condition (logicalCondition (comparison_condition (expression (table_column (table_name sales) . (column_name num))) (comparison_operator >=) (value (number 100)))) (logical_operator OR) (logicalCondition (comparison_condition (expression (table_column (table_name sales) . (column_name manager))) (comparison_operator =) (value \" John \"))) (logical_operator AND) (logicalCondition (expression (table_column (table_name sales) . (column_name revenue))) IS NOT NULL))) (order_by_clause ORDER BY (column_name_list (table_column (table_name table) . (column_name col)) , (column_name age)) DESC) (limit_clause LIMIT (number 10)) ;)\n"
     ]
    }
   ],
   "source": [
    "tree = sql_parser(sel_st2)"
   ]
  },
  {
   "cell_type": "code",
   "execution_count": 16,
   "id": "a958bcb2",
   "metadata": {
    "scrolled": false
   },
   "outputs": [
    {
     "name": "stdout",
     "output_type": "stream",
     "text": [
      "WITHhighestAS(SELECTtable.branch,date,MAX(unit_price)AShighest_priceFROMsalesGROUPBYbranch,date)SELECTsales.age,h.highest_priceFROMsalesLEFTJOINhighestAShONsales.branch=h.branchANDsales.date=h.dateWHEREsales.num>=100ORsales.manager=\"John\"ANDsales.revenueISNOTNULLORDERBYtable.col,ageDESCLIMIT10;\n",
      "├── WITHhighestAS(SELECTtable.branch,date,MAX(unit_price)AShighest_priceFROMsalesGROUPBYbranch,date)\n",
      "│   ├── WITH\n",
      "│   ├── highest\n",
      "│   │   └── highest\n",
      "│   │       └── highest\n",
      "│   ├── AS\n",
      "│   ├── (\n",
      "│   ├── SELECTtable.branch,date,MAX(unit_price)AShighest_priceFROMsalesGROUPBYbranch,date\n",
      "│   │   ├── SELECTtable.branch,date,MAX(unit_price)AShighest_price\n",
      "│   │   │   ├── SELECT\n",
      "│   │   │   └── table.branch,date,MAX(unit_price)AShighest_price\n",
      "│   │   │       ├── table.branch\n",
      "│   │   │       │   └── table.branch\n",
      "│   │   │       │       └── table.branch\n",
      "│   │   │       │           ├── table\n",
      "│   │   │       │           │   └── table\n",
      "│   │   │       │           ├── .\n",
      "│   │   │       │           └── branch\n",
      "│   │   │       │               └── branch\n",
      "│   │   │       ├── ,\n",
      "│   │   │       ├── date\n",
      "│   │   │       │   └── date\n",
      "│   │   │       │       └── date\n",
      "│   │   │       │           └── date\n",
      "│   │   │       ├── ,\n",
      "│   │   │       └── MAX(unit_price)AShighest_price\n",
      "│   │   │           ├── MAX(unit_price)\n",
      "│   │   │           │   └── MAX(unit_price)\n",
      "│   │   │           │       ├── MAX\n",
      "│   │   │           │       ├── (\n",
      "│   │   │           │       ├── unit_price\n",
      "│   │   │           │       │   └── unit_price\n",
      "│   │   │           │       └── )\n",
      "│   │   │           ├── AS\n",
      "│   │   │           └── highest_price\n",
      "│   │   │               └── highest_price\n",
      "│   │   ├── FROMsales\n",
      "│   │   │   ├── FROM\n",
      "│   │   │   └── sales\n",
      "│   │   │       └── sales\n",
      "│   │   │           └── sales\n",
      "│   │   └── GROUPBYbranch,date\n",
      "│   │       ├── GROUP\n",
      "│   │       ├── BY\n",
      "│   │       └── branch,date\n",
      "│   │           ├── branch\n",
      "│   │           │   └── branch\n",
      "│   │           ├── ,\n",
      "│   │           └── date\n",
      "│   │               └── date\n",
      "│   └── )\n",
      "├── SELECTsales.age,h.highest_price\n",
      "│   ├── SELECT\n",
      "│   └── sales.age,h.highest_price\n",
      "│       ├── sales.age\n",
      "│       │   └── sales.age\n",
      "│       │       └── sales.age\n",
      "│       │           ├── sales\n",
      "│       │           │   └── sales\n",
      "│       │           ├── .\n",
      "│       │           └── age\n",
      "│       │               └── age\n",
      "│       ├── ,\n",
      "│       └── h.highest_price\n",
      "│           └── h.highest_price\n",
      "│               └── h.highest_price\n",
      "│                   ├── h\n",
      "│                   │   └── h\n",
      "│                   ├── .\n",
      "│                   └── highest_price\n",
      "│                       └── highest_price\n",
      "├── FROMsales\n",
      "│   ├── FROM\n",
      "│   └── sales\n",
      "│       └── sales\n",
      "│           └── sales\n",
      "├── LEFTJOINhighestAShONsales.branch=h.branchANDsales.date=h.date\n",
      "│   └── LEFTJOINhighestAShONsales.branch=h.branchANDsales.date=h.date\n",
      "│       ├── LEFT\n",
      "│       ├── JOIN\n",
      "│       ├── highest\n",
      "│       │   └── highest\n",
      "│       ├── AS\n",
      "│       ├── h\n",
      "│       │   └── h\n",
      "│       ├── ON\n",
      "│       └── sales.branch=h.branchANDsales.date=h.date\n",
      "│           ├── sales.branch\n",
      "│           │   ├── sales\n",
      "│           │   │   └── sales\n",
      "│           │   ├── .\n",
      "│           │   └── branch\n",
      "│           │       └── branch\n",
      "│           ├── =\n",
      "│           │   └── =\n",
      "│           ├── h.branch\n",
      "│           │   ├── h\n",
      "│           │   │   └── h\n",
      "│           │   ├── .\n",
      "│           │   └── branch\n",
      "│           │       └── branch\n",
      "│           ├── AND\n",
      "│           │   └── AND\n",
      "│           ├── sales.date\n",
      "│           │   ├── sales\n",
      "│           │   │   └── sales\n",
      "│           │   ├── .\n",
      "│           │   └── date\n",
      "│           │       └── date\n",
      "│           ├── =\n",
      "│           │   └── =\n",
      "│           └── h.date\n",
      "│               ├── h\n",
      "│               │   └── h\n",
      "│               ├── .\n",
      "│               └── date\n",
      "│                   └── date\n",
      "├── WHEREsales.num>=100ORsales.manager=\"John\"ANDsales.revenueISNOTNULL\n",
      "│   ├── WHERE\n",
      "│   └── sales.num>=100ORsales.manager=\"John\"ANDsales.revenueISNOTNULL\n",
      "│       ├── sales.num>=100\n",
      "│       │   └── sales.num>=100\n",
      "│       │       ├── sales.num\n",
      "│       │       │   └── sales.num\n",
      "│       │       │       ├── sales\n",
      "│       │       │       │   └── sales\n",
      "│       │       │       ├── .\n",
      "│       │       │       └── num\n",
      "│       │       │           └── num\n",
      "│       │       ├── >=\n",
      "│       │       │   └── >=\n",
      "│       │       └── 100\n",
      "│       │           └── 100\n",
      "│       │               └── 100\n",
      "│       ├── OR\n",
      "│       │   └── OR\n",
      "│       ├── sales.manager=\"John\"\n",
      "│       │   └── sales.manager=\"John\"\n",
      "│       │       ├── sales.manager\n",
      "│       │       │   └── sales.manager\n",
      "│       │       │       ├── sales\n",
      "│       │       │       │   └── sales\n",
      "│       │       │       ├── .\n",
      "│       │       │       └── manager\n",
      "│       │       │           └── manager\n",
      "│       │       ├── =\n",
      "│       │       │   └── =\n",
      "│       │       └── \"John\"\n",
      "│       │           ├── \"\n",
      "│       │           ├── John\n",
      "│       │           └── \"\n",
      "│       ├── AND\n",
      "│       │   └── AND\n",
      "│       └── sales.revenueISNOTNULL\n",
      "│           ├── sales.revenue\n",
      "│           │   └── sales.revenue\n",
      "│           │       ├── sales\n",
      "│           │       │   └── sales\n",
      "│           │       ├── .\n",
      "│           │       └── revenue\n",
      "│           │           └── revenue\n",
      "│           ├── IS\n",
      "│           ├── NOT\n",
      "│           └── NULL\n",
      "├── ORDERBYtable.col,ageDESC\n",
      "│   ├── ORDER\n",
      "│   ├── BY\n",
      "│   ├── table.col,age\n",
      "│   │   ├── table.col\n",
      "│   │   │   ├── table\n",
      "│   │   │   │   └── table\n",
      "│   │   │   ├── .\n",
      "│   │   │   └── col\n",
      "│   │   │       └── col\n",
      "│   │   ├── ,\n",
      "│   │   └── age\n",
      "│   │       └── age\n",
      "│   └── DESC\n",
      "├── LIMIT10\n",
      "│   ├── LIMIT\n",
      "│   └── 10\n",
      "│       └── 10\n",
      "└── ;\n"
     ]
    }
   ],
   "source": [
    "root = create_parse_tree(tree)\n",
    "for pre, fill, node in RenderTree(root):\n",
    "    print(f\"{pre}{node.name}\")"
   ]
  },
  {
   "cell_type": "code",
   "execution_count": null,
   "id": "e55015e2",
   "metadata": {},
   "outputs": [],
   "source": []
  }
 ],
 "metadata": {
  "kernelspec": {
   "display_name": "Python 3 (ipykernel)",
   "language": "python",
   "name": "python3"
  },
  "language_info": {
   "codemirror_mode": {
    "name": "ipython",
    "version": 3
   },
   "file_extension": ".py",
   "mimetype": "text/x-python",
   "name": "python",
   "nbconvert_exporter": "python",
   "pygments_lexer": "ipython3",
   "version": "3.9.7"
  }
 },
 "nbformat": 4,
 "nbformat_minor": 5
}
